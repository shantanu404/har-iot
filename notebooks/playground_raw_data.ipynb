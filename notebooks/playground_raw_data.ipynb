{
 "cells": [
  {
   "cell_type": "code",
   "execution_count": null,
   "id": "3a464267",
   "metadata": {},
   "outputs": [],
   "source": [
    "import pandas as pd\n",
    "import numpy as np\n",
    "import matplotlib.pyplot as plt\n",
    "\n",
    "import torch\n",
    "from tqdm import tqdm\n",
    "from torch import nn, optim\n",
    "from torch.utils.data import DataLoader, Dataset \n",
    "from sklearn.model_selection import train_test_split\n",
    "from sklearn.metrics import classification_report, confusion_matrix\n",
    "from sklearn.manifold import TSNE\n",
    "import seaborn as sns"
   ]
  },
  {
   "cell_type": "code",
   "execution_count": null,
   "id": "19ed3aae",
   "metadata": {},
   "outputs": [],
   "source": [
    "\"\"\"\n",
    "\n",
    "walking = A\n",
    "jogging = B\n",
    "stairs = C\n",
    "sitting = D\n",
    "standing = E\n",
    "typing = F\n",
    "teeth = G\n",
    "soup = H\n",
    "chips = I\n",
    "pasta = J\n",
    "drinking = K\n",
    "sandwich = L\n",
    "kicking = M\n",
    "catch = O\n",
    "dribbling = P\n",
    "writing = Q\n",
    "clapping = R\n",
    "folding = S\n",
    "\n",
    "\"\"\"\n",
    "ACTIVITY_MAP = {\n",
    "    'A': 'walking',\n",
    "    'B': 'jogging',\n",
    "    'C': 'stairs',\n",
    "    'D': 'sitting',\n",
    "    'E': 'standing',\n",
    "    'F': 'typing',\n",
    "    'G': 'teeth',\n",
    "    'H': 'soup',\n",
    "    'I': 'chips',\n",
    "    'J': 'pasta',\n",
    "    'K': 'drinking',\n",
    "    'L': 'sandwich',\n",
    "    'M': 'kicking',\n",
    "    'O': 'catch',\n",
    "    'P': 'dribbling',\n",
    "    'Q': 'writing',\n",
    "    'R': 'clapping',\n",
    "    'S': 'folding'\n",
    "}\n",
    "\n",
    "ACTIVITY_CODE = {\n",
    "    'A': 0,\n",
    "    'B': 1,\n",
    "    'C': 2,\n",
    "    'D': 3,\n",
    "    'E': 4,\n",
    "    'F': 5,\n",
    "    'G': 6,\n",
    "    'H': 7,\n",
    "    'I': 8,\n",
    "    'J': 9,\n",
    "    'K': 10,\n",
    "    'L': 11,\n",
    "    'M': 12,\n",
    "    'O': 13,\n",
    "    'P': 14,\n",
    "    'Q': 15,\n",
    "    'R': 16,\n",
    "    'S': 17\n",
    "}"
   ]
  },
  {
   "cell_type": "code",
   "execution_count": null,
   "id": "b85f6a5f",
   "metadata": {},
   "outputs": [],
   "source": [
    "def load_data(subject_id, device, sensor):\n",
    "    filepath = f'../dataset/{device}_csv/{sensor}/data_{subject_id}_{sensor}_{device}.csv'\n",
    "    df = pd.read_csv(filepath)\n",
    "    df['timestamp'] = pd.to_datetime(df['timestamp'], unit='ns')\n",
    "    df['activity_code'] = df['activity_code'].map(ACTIVITY_CODE)\n",
    "    return df\n",
    "\n",
    "subject_1600_data = load_data('1600', 'phone', 'accel')\n",
    "\n",
    "print(f\"Total data shape for subject 1600: {subject_1600_data.shape}\")\n",
    "\n",
    "subject_1600_data.head()"
   ]
  },
  {
   "cell_type": "code",
   "execution_count": null,
   "id": "18e8c60d",
   "metadata": {},
   "outputs": [],
   "source": [
    "def split_df_into_segments(df, time_col='timestamp', threshold=pd.Timedelta('1s')):\n",
    "    time_diffs = df[time_col].diff().fillna(pd.Timedelta(seconds=0))\n",
    "    segment_ids = (abs(time_diffs) > threshold).cumsum()\n",
    "    segments = [group.reset_index(drop=True) for _, group in df.groupby(segment_ids)]\n",
    "    for segment in segments:\n",
    "        segment['timestamp'] = (segment[time_col] - segment[time_col].min()).dt.total_seconds()\n",
    "\n",
    "    return segments\n",
    "\n",
    "segments = split_df_into_segments(subject_1600_data)\n",
    "\n",
    "print(f\"Total segments found: {len(segments)}\")\n",
    "print(segments[0].head())\n",
    "\n",
    "for i, segment in enumerate(segments[:2]):\n",
    "    print(f\"Segment {i+1} shape: {segment.shape}\")\n",
    "    plt.figure(figsize=(10, 12))\n",
    "\n",
    "    plt.subplot(3, 1, 1)\n",
    "    plt.plot(segment['timestamp'], segment['x'], label='X-axis')\n",
    "\n",
    "    plt.subplot(3, 1, 2)\n",
    "    plt.plot(segment['timestamp'], segment['y'], label='Y-axis')\n",
    "\n",
    "    plt.subplot(3, 1, 3)\n",
    "    plt.plot(segment['timestamp'], segment['z'], label='Z-axis')\n",
    "\n",
    "    plt.title(f'Segment {i+1}')\n",
    "    plt.xlabel('Time')\n",
    "    plt.ylabel('Acceleration')\n",
    "    plt.legend()\n",
    "    plt.show()\n"
   ]
  },
  {
   "cell_type": "code",
   "execution_count": null,
   "id": "0a6d0e68",
   "metadata": {},
   "outputs": [],
   "source": [
    "def create_windowed_dataseries(segment, window_size=10, step_size=5):\n",
    "    windows = []\n",
    "    assert segment['activity_code'].nunique() == 1, \"Segment contains multiple activities.\"\n",
    "    for start in range(0, len(segment) - window_size + 1, step_size):\n",
    "        window = segment.iloc[start:start + window_size].copy()\n",
    "        xs = window['x'].values\n",
    "        ys = window['y'].values\n",
    "        zs = window['z'].values\n",
    "        window_np = np.concatenate([xs, ys, zs], axis=0)\n",
    "        window_df = pd.DataFrame([window_np], columns=[f'feat_{i}' for i in range(len(window_np))])\n",
    "        activity_df = pd.DataFrame(np.zeros((1, len(ACTIVITY_CODE)), np.uint8), columns=[f'activity_{i}' for i in range(len(ACTIVITY_CODE))])\n",
    "        activity_df[f'activity_{segment[\"activity_code\"].iloc[0]}'] = 1\n",
    "        window_df = pd.concat([window_df, activity_df], axis=1)\n",
    "        windows.append(window_df)\n",
    "\n",
    "    return pd.concat(windows, ignore_index=True)\n",
    "\n",
    "windowed_data = create_windowed_dataseries(segments[0], window_size=10, step_size=5)\n",
    "windowed_data.head()"
   ]
  },
  {
   "cell_type": "code",
   "execution_count": null,
   "id": "00787184",
   "metadata": {},
   "outputs": [],
   "source": [
    "class HARDataset(Dataset):\n",
    "    def __init__(self, subjects, device, sensor, window_size=10, step_size=5, shuffle=True):\n",
    "        segments = []\n",
    "        for subject_id in tqdm(subjects):\n",
    "            df = load_data(subject_id, device, sensor)\n",
    "            segments.extend(split_df_into_segments(df))\n",
    "\n",
    "        if shuffle:\n",
    "            np.random.shuffle(segments)\n",
    "\n",
    "        windows = []\n",
    "        for segment in tqdm(segments):\n",
    "            windowed_segment = create_windowed_dataseries(segment, window_size, step_size)\n",
    "            windows.append(windowed_segment)\n",
    "\n",
    "        self.data = pd.concat(windows, ignore_index=True)\n",
    "        self.length = len(self.data)\n",
    "\n",
    "    def __len__(self):\n",
    "        return self.length\n",
    "    \n",
    "    def __getitem__(self, idx):\n",
    "        row = self.data.iloc[idx]\n",
    "        features = row.filter(like='feat_').values.astype(np.float32).reshape(3, -1)\n",
    "        labels = row.filter(like='activity_').values.astype(np.float32)\n",
    "        return features, labels\n"
   ]
  },
  {
   "cell_type": "code",
   "execution_count": null,
   "id": "031085af",
   "metadata": {},
   "outputs": [],
   "source": [
    "subjects = [f'16{str(i).zfill(2)}' for i in range(0, 51)]\n",
    "print(subjects)\n",
    "\n",
    "dataset = HARDataset(subjects, device='phone', sensor='accel', window_size=20, step_size=10)"
   ]
  },
  {
   "cell_type": "code",
   "execution_count": null,
   "id": "aa2d8d40",
   "metadata": {},
   "outputs": [],
   "source": [
    "torch.save(dataset, '../dataset/har_dataset_phone_accel.pt')\n",
    "# dataset = torch.load('../dataset/har_dataset_phone_accel.pt', weights_only=False)"
   ]
  },
  {
   "cell_type": "code",
   "execution_count": null,
   "id": "8becce68",
   "metadata": {},
   "outputs": [],
   "source": [
    "# print(\"Loading dataset from file...\")\n",
    "# dataset = torch.load('dataset/har_dataset_phone_accel.pt')\n",
    "\n",
    "train_dataset, test_dataset = train_test_split(dataset, test_size=0.2, random_state=42)\n",
    "train_dataset, val_dataset = train_test_split(train_dataset, test_size=0.1, random_state=42)\n",
    "\n",
    "train_dataloader = DataLoader(train_dataset, batch_size=128, shuffle=True, pin_memory=True, pin_memory_device='cuda')\n",
    "test_dataloader = DataLoader(test_dataset, batch_size=128, shuffle=False, pin_memory=True, pin_memory_device='cuda')\n",
    "val_dataloader = DataLoader(val_dataset, batch_size=128, shuffle=False, pin_memory=True, pin_memory_device='cuda')"
   ]
  },
  {
   "cell_type": "code",
   "execution_count": 33,
   "id": "70bf7e2a",
   "metadata": {},
   "outputs": [],
   "source": [
    "class HARCNN(nn.Module):\n",
    "    def __init__(self, input_size, num_classes):\n",
    "        super(HARCNN, self).__init__()\n",
    "        self.feature_extractor = nn.Sequential(\n",
    "            nn.Conv1d(in_channels=3, out_channels=64, kernel_size=11, padding=1),\n",
    "            nn.ReLU(),\n",
    "            nn.MaxPool1d(kernel_size=2),\n",
    "\n",
    "            nn.Conv1d(in_channels=64, out_channels=128, kernel_size=5, padding=1),\n",
    "            nn.ReLU(),\n",
    "            nn.MaxPool1d(kernel_size=2),\n",
    "\n",
    "            nn.Conv1d(in_channels=128, out_channels=256, kernel_size=3, padding=1),\n",
    "            nn.ReLU(),\n",
    "            nn.MaxPool1d(kernel_size=2),\n",
    "\n",
    "            nn.Flatten()\n",
    "        )\n",
    "\n",
    "        self.classifier = nn.Sequential(\n",
    "            nn.Linear(256, 512),\n",
    "            nn.ReLU(),\n",
    "            nn.Dropout(0.5),\n",
    "            nn.Linear(512, num_classes)\n",
    "        )\n",
    "\n",
    "    def forward(self, x):\n",
    "        x = self.feature_extractor(x)\n",
    "        x = self.classifier(x)\n",
    "        return x\n"
   ]
  },
  {
   "cell_type": "code",
   "execution_count": 34,
   "id": "5b52b953",
   "metadata": {},
   "outputs": [
    {
     "name": "stderr",
     "output_type": "stream",
     "text": [
      "100%|██████████| 2696/2696 [00:13<00:00, 198.56it/s]\n"
     ]
    },
    {
     "name": "stdout",
     "output_type": "stream",
     "text": [
      "Epoch [1/500], Train Loss: 1.7246, Val Loss: 1.2904, Val Acc: 0.5437\n"
     ]
    },
    {
     "name": "stderr",
     "output_type": "stream",
     "text": [
      "100%|██████████| 2696/2696 [00:13<00:00, 198.48it/s]\n"
     ]
    },
    {
     "name": "stdout",
     "output_type": "stream",
     "text": [
      "Epoch [2/500], Train Loss: 1.2519, Val Loss: 1.0244, Val Acc: 0.6409\n"
     ]
    },
    {
     "name": "stderr",
     "output_type": "stream",
     "text": [
      "100%|██████████| 2696/2696 [00:13<00:00, 198.29it/s]\n"
     ]
    },
    {
     "name": "stdout",
     "output_type": "stream",
     "text": [
      "Epoch [3/500], Train Loss: 1.0902, Val Loss: 0.9366, Val Acc: 0.6698\n"
     ]
    },
    {
     "name": "stderr",
     "output_type": "stream",
     "text": [
      "100%|██████████| 2696/2696 [00:13<00:00, 198.90it/s]\n"
     ]
    },
    {
     "name": "stdout",
     "output_type": "stream",
     "text": [
      "Epoch [4/500], Train Loss: 1.0123, Val Loss: 0.8989, Val Acc: 0.6852\n"
     ]
    },
    {
     "name": "stderr",
     "output_type": "stream",
     "text": [
      "100%|██████████| 2696/2696 [00:13<00:00, 198.30it/s]\n"
     ]
    },
    {
     "name": "stdout",
     "output_type": "stream",
     "text": [
      "Epoch [5/500], Train Loss: 0.9644, Val Loss: 0.8631, Val Acc: 0.6964\n"
     ]
    },
    {
     "name": "stderr",
     "output_type": "stream",
     "text": [
      "100%|██████████| 2696/2696 [00:13<00:00, 198.38it/s]\n"
     ]
    },
    {
     "name": "stdout",
     "output_type": "stream",
     "text": [
      "Epoch [6/500], Train Loss: 0.9295, Val Loss: 0.8352, Val Acc: 0.7067\n"
     ]
    },
    {
     "name": "stderr",
     "output_type": "stream",
     "text": [
      "100%|██████████| 2696/2696 [00:13<00:00, 198.78it/s]\n"
     ]
    },
    {
     "name": "stdout",
     "output_type": "stream",
     "text": [
      "Epoch [7/500], Train Loss: 0.9037, Val Loss: 0.8063, Val Acc: 0.7215\n"
     ]
    },
    {
     "name": "stderr",
     "output_type": "stream",
     "text": [
      "100%|██████████| 2696/2696 [00:13<00:00, 198.19it/s]\n"
     ]
    },
    {
     "name": "stdout",
     "output_type": "stream",
     "text": [
      "Epoch [8/500], Train Loss: 0.8822, Val Loss: 0.8099, Val Acc: 0.7195\n"
     ]
    },
    {
     "name": "stderr",
     "output_type": "stream",
     "text": [
      "100%|██████████| 2696/2696 [00:13<00:00, 197.67it/s]\n"
     ]
    },
    {
     "name": "stdout",
     "output_type": "stream",
     "text": [
      "Epoch [9/500], Train Loss: 0.8636, Val Loss: 0.7924, Val Acc: 0.7263\n"
     ]
    },
    {
     "name": "stderr",
     "output_type": "stream",
     "text": [
      "100%|██████████| 2696/2696 [00:13<00:00, 198.80it/s]\n"
     ]
    },
    {
     "name": "stdout",
     "output_type": "stream",
     "text": [
      "Epoch [10/500], Train Loss: 0.8484, Val Loss: 0.7841, Val Acc: 0.7290\n"
     ]
    },
    {
     "name": "stderr",
     "output_type": "stream",
     "text": [
      "100%|██████████| 2696/2696 [00:13<00:00, 196.83it/s]\n"
     ]
    },
    {
     "name": "stdout",
     "output_type": "stream",
     "text": [
      "Epoch [11/500], Train Loss: 0.8364, Val Loss: 0.7940, Val Acc: 0.7303\n"
     ]
    },
    {
     "name": "stderr",
     "output_type": "stream",
     "text": [
      "100%|██████████| 2696/2696 [00:13<00:00, 198.79it/s]\n"
     ]
    },
    {
     "name": "stdout",
     "output_type": "stream",
     "text": [
      "Epoch [12/500], Train Loss: 0.8246, Val Loss: 0.7666, Val Acc: 0.7370\n"
     ]
    },
    {
     "name": "stderr",
     "output_type": "stream",
     "text": [
      "100%|██████████| 2696/2696 [00:13<00:00, 197.37it/s]\n"
     ]
    },
    {
     "name": "stdout",
     "output_type": "stream",
     "text": [
      "Epoch [13/500], Train Loss: 0.8127, Val Loss: 0.7900, Val Acc: 0.7305\n"
     ]
    },
    {
     "name": "stderr",
     "output_type": "stream",
     "text": [
      "100%|██████████| 2696/2696 [00:13<00:00, 198.74it/s]\n"
     ]
    },
    {
     "name": "stdout",
     "output_type": "stream",
     "text": [
      "Epoch [14/500], Train Loss: 0.8056, Val Loss: 0.7531, Val Acc: 0.7474\n"
     ]
    },
    {
     "name": "stderr",
     "output_type": "stream",
     "text": [
      "100%|██████████| 2696/2696 [00:13<00:00, 198.68it/s]\n"
     ]
    },
    {
     "name": "stdout",
     "output_type": "stream",
     "text": [
      "Epoch [15/500], Train Loss: 0.7983, Val Loss: 0.7668, Val Acc: 0.7432\n"
     ]
    },
    {
     "name": "stderr",
     "output_type": "stream",
     "text": [
      "100%|██████████| 2696/2696 [00:13<00:00, 198.95it/s]\n"
     ]
    },
    {
     "name": "stdout",
     "output_type": "stream",
     "text": [
      "Epoch [16/500], Train Loss: 0.7907, Val Loss: 0.7671, Val Acc: 0.7439\n"
     ]
    },
    {
     "name": "stderr",
     "output_type": "stream",
     "text": [
      "100%|██████████| 2696/2696 [00:13<00:00, 197.65it/s]\n"
     ]
    },
    {
     "name": "stdout",
     "output_type": "stream",
     "text": [
      "Epoch [17/500], Train Loss: 0.7819, Val Loss: 0.7721, Val Acc: 0.7416\n"
     ]
    },
    {
     "name": "stderr",
     "output_type": "stream",
     "text": [
      "100%|██████████| 2696/2696 [00:13<00:00, 198.66it/s]\n"
     ]
    },
    {
     "name": "stdout",
     "output_type": "stream",
     "text": [
      "Epoch [18/500], Train Loss: 0.7727, Val Loss: 0.7373, Val Acc: 0.7508\n"
     ]
    },
    {
     "name": "stderr",
     "output_type": "stream",
     "text": [
      "100%|██████████| 2696/2696 [00:13<00:00, 198.12it/s]\n"
     ]
    },
    {
     "name": "stdout",
     "output_type": "stream",
     "text": [
      "Epoch [19/500], Train Loss: 0.7688, Val Loss: 0.7386, Val Acc: 0.7542\n"
     ]
    },
    {
     "name": "stderr",
     "output_type": "stream",
     "text": [
      "100%|██████████| 2696/2696 [00:13<00:00, 198.96it/s]\n"
     ]
    },
    {
     "name": "stdout",
     "output_type": "stream",
     "text": [
      "Epoch [20/500], Train Loss: 0.7618, Val Loss: 0.7460, Val Acc: 0.7453\n"
     ]
    },
    {
     "name": "stderr",
     "output_type": "stream",
     "text": [
      "100%|██████████| 2696/2696 [00:13<00:00, 197.88it/s]\n"
     ]
    },
    {
     "name": "stdout",
     "output_type": "stream",
     "text": [
      "Epoch [21/500], Train Loss: 0.7557, Val Loss: 0.7441, Val Acc: 0.7515\n"
     ]
    },
    {
     "name": "stderr",
     "output_type": "stream",
     "text": [
      "100%|██████████| 2696/2696 [00:13<00:00, 198.53it/s]\n"
     ]
    },
    {
     "name": "stdout",
     "output_type": "stream",
     "text": [
      "Epoch [22/500], Train Loss: 0.7542, Val Loss: 0.7567, Val Acc: 0.7530\n"
     ]
    },
    {
     "name": "stderr",
     "output_type": "stream",
     "text": [
      "100%|██████████| 2696/2696 [00:13<00:00, 198.36it/s]\n"
     ]
    },
    {
     "name": "stdout",
     "output_type": "stream",
     "text": [
      "Epoch [23/500], Train Loss: 0.7497, Val Loss: 0.7675, Val Acc: 0.7450\n"
     ]
    },
    {
     "name": "stderr",
     "output_type": "stream",
     "text": [
      "100%|██████████| 2696/2696 [00:13<00:00, 198.55it/s]\n"
     ]
    },
    {
     "name": "stdout",
     "output_type": "stream",
     "text": [
      "Epoch [24/500], Train Loss: 0.7457, Val Loss: 0.7483, Val Acc: 0.7552\n"
     ]
    },
    {
     "name": "stderr",
     "output_type": "stream",
     "text": [
      "100%|██████████| 2696/2696 [00:13<00:00, 198.14it/s]\n"
     ]
    },
    {
     "name": "stdout",
     "output_type": "stream",
     "text": [
      "Epoch [25/500], Train Loss: 0.7429, Val Loss: 0.7576, Val Acc: 0.7518\n"
     ]
    },
    {
     "name": "stderr",
     "output_type": "stream",
     "text": [
      "100%|██████████| 2696/2696 [00:13<00:00, 196.53it/s]\n"
     ]
    },
    {
     "name": "stdout",
     "output_type": "stream",
     "text": [
      "Epoch [26/500], Train Loss: 0.7370, Val Loss: 0.7613, Val Acc: 0.7542\n"
     ]
    },
    {
     "name": "stderr",
     "output_type": "stream",
     "text": [
      "100%|██████████| 2696/2696 [00:13<00:00, 197.33it/s]\n"
     ]
    },
    {
     "name": "stdout",
     "output_type": "stream",
     "text": [
      "Epoch [27/500], Train Loss: 0.7349, Val Loss: 0.7485, Val Acc: 0.7522\n"
     ]
    },
    {
     "name": "stderr",
     "output_type": "stream",
     "text": [
      "100%|██████████| 2696/2696 [00:13<00:00, 197.06it/s]\n"
     ]
    },
    {
     "name": "stdout",
     "output_type": "stream",
     "text": [
      "Epoch [28/500], Train Loss: 0.7310, Val Loss: 0.7476, Val Acc: 0.7606\n"
     ]
    },
    {
     "name": "stderr",
     "output_type": "stream",
     "text": [
      "100%|██████████| 2696/2696 [00:13<00:00, 196.75it/s]\n"
     ]
    },
    {
     "name": "stdout",
     "output_type": "stream",
     "text": [
      "Epoch [29/500], Train Loss: 0.7312, Val Loss: 0.7470, Val Acc: 0.7595\n"
     ]
    },
    {
     "name": "stderr",
     "output_type": "stream",
     "text": [
      "100%|██████████| 2696/2696 [00:13<00:00, 203.31it/s]\n"
     ]
    },
    {
     "name": "stdout",
     "output_type": "stream",
     "text": [
      "Epoch [30/500], Train Loss: 0.7272, Val Loss: 0.7677, Val Acc: 0.7516\n"
     ]
    },
    {
     "name": "stderr",
     "output_type": "stream",
     "text": [
      "100%|██████████| 2696/2696 [00:10<00:00, 255.38it/s]\n"
     ]
    },
    {
     "name": "stdout",
     "output_type": "stream",
     "text": [
      "Epoch [31/500], Train Loss: 0.7217, Val Loss: 0.7412, Val Acc: 0.7581\n"
     ]
    },
    {
     "name": "stderr",
     "output_type": "stream",
     "text": [
      "100%|██████████| 2696/2696 [00:13<00:00, 197.59it/s]\n"
     ]
    },
    {
     "name": "stdout",
     "output_type": "stream",
     "text": [
      "Epoch [32/500], Train Loss: 0.7216, Val Loss: 0.7646, Val Acc: 0.7510\n"
     ]
    },
    {
     "name": "stderr",
     "output_type": "stream",
     "text": [
      "100%|██████████| 2696/2696 [00:13<00:00, 197.72it/s]\n"
     ]
    },
    {
     "name": "stdout",
     "output_type": "stream",
     "text": [
      "Epoch [33/500], Train Loss: 0.7194, Val Loss: 0.7656, Val Acc: 0.7559\n"
     ]
    },
    {
     "name": "stderr",
     "output_type": "stream",
     "text": [
      "100%|██████████| 2696/2696 [00:13<00:00, 196.14it/s]\n"
     ]
    },
    {
     "name": "stdout",
     "output_type": "stream",
     "text": [
      "Epoch [34/500], Train Loss: 0.7130, Val Loss: 0.7605, Val Acc: 0.7610\n"
     ]
    },
    {
     "name": "stderr",
     "output_type": "stream",
     "text": [
      "100%|██████████| 2696/2696 [00:13<00:00, 197.61it/s]\n"
     ]
    },
    {
     "name": "stdout",
     "output_type": "stream",
     "text": [
      "Epoch [35/500], Train Loss: 0.7165, Val Loss: 0.7455, Val Acc: 0.7620\n"
     ]
    },
    {
     "name": "stderr",
     "output_type": "stream",
     "text": [
      "100%|██████████| 2696/2696 [00:13<00:00, 197.80it/s]\n"
     ]
    },
    {
     "name": "stdout",
     "output_type": "stream",
     "text": [
      "Epoch [36/500], Train Loss: 0.7128, Val Loss: 0.7519, Val Acc: 0.7639\n"
     ]
    },
    {
     "name": "stderr",
     "output_type": "stream",
     "text": [
      "100%|██████████| 2696/2696 [00:13<00:00, 198.54it/s]\n"
     ]
    },
    {
     "name": "stdout",
     "output_type": "stream",
     "text": [
      "Epoch [37/500], Train Loss: 0.7066, Val Loss: 0.7940, Val Acc: 0.7521\n"
     ]
    },
    {
     "name": "stderr",
     "output_type": "stream",
     "text": [
      "100%|██████████| 2696/2696 [00:13<00:00, 197.36it/s]\n"
     ]
    },
    {
     "name": "stdout",
     "output_type": "stream",
     "text": [
      "Epoch [38/500], Train Loss: 0.7049, Val Loss: 0.7480, Val Acc: 0.7657\n",
      "Early stopping triggered.\n"
     ]
    },
    {
     "data": {
      "image/png": "[encoded data removed]",
      "text/plain": [
       "<Figure size 1000x500 with 1 Axes>"
      ]
     },
     "metadata": {},
     "output_type": "display_data"
    }
   ],
   "source": [
    "model = HARCNN(input_size=20, num_classes=len(ACTIVITY_CODE)).to('cuda')\n",
    "criterion = nn.CrossEntropyLoss()\n",
    "optimizer = optim.Adam(model.parameters(), lr=0.001)\n",
    "\n",
    "training_loss = []\n",
    "validation_loss = []\n",
    "best_val_loss = float('inf')\n",
    "best_model_state = None\n",
    "epochs = 500\n",
    "patience = 20\n",
    "patience_counter = 0\n",
    "\n",
    "for epoch in range(epochs):\n",
    "    model.train()\n",
    "    total_loss = 0\n",
    "    for features, labels in tqdm(train_dataloader):\n",
    "        features = features.to('cuda')\n",
    "        labels = labels.to('cuda')\n",
    "        optimizer.zero_grad()\n",
    "        outputs = model(features)\n",
    "        loss = criterion(outputs, labels)\n",
    "        loss.backward()\n",
    "        optimizer.step()\n",
    "        total_loss += loss.item()\n",
    "\n",
    "    avg_train_loss = total_loss / len(train_dataloader)\n",
    "    training_loss.append(avg_train_loss)\n",
    "\n",
    "    model.eval()\n",
    "    total_val_loss = 0\n",
    "    total_val_accuracy = 0\n",
    "    with torch.no_grad():\n",
    "        for features, labels in val_dataloader:\n",
    "            outputs = model(features.to('cuda'))\n",
    "            loss = criterion(outputs, labels.to('cuda'))\n",
    "            accuracy = (outputs.argmax(dim=1) == labels.argmax(dim=1).to('cuda')).float().mean()\n",
    "            total_val_accuracy += accuracy.item()\n",
    "            total_val_loss += loss.item()\n",
    "\n",
    "    avg_val_loss = total_val_loss / len(val_dataloader)\n",
    "    avg_val_accuracy = total_val_accuracy / len(val_dataloader)\n",
    "\n",
    "    validation_loss.append(avg_val_loss)\n",
    "\n",
    "    print(f'Epoch [{epoch+1}/{epochs}], Train Loss: {avg_train_loss:.4f}, Val Loss: {avg_val_loss:.4f}, Val Acc: {avg_val_accuracy:.4f}')\n",
    "\n",
    "    if avg_val_loss < best_val_loss:\n",
    "        best_val_loss = avg_val_loss\n",
    "        best_model_state = model.state_dict()\n",
    "        patience_counter = 0\n",
    "    else:\n",
    "        patience_counter += 1\n",
    "        if patience_counter >= patience:\n",
    "            print(\"Early stopping triggered.\")\n",
    "            break\n",
    "\n",
    "# Plot training and validation loss\n",
    "plt.figure(figsize=(10, 5))\n",
    "plt.plot(training_loss, label='Training Loss')\n",
    "plt.plot(validation_loss, label='Validation Loss')\n",
    "plt.xlabel('Epochs')\n",
    "plt.ylabel('Loss')\n",
    "plt.legend()\n",
    "plt.title('Training and Validation Loss')\n",
    "plt.show()"
   ]
  },
  {
   "cell_type": "code",
   "execution_count": 35,
   "id": "f3210fb8",
   "metadata": {},
   "outputs": [
    {
     "name": "stdout",
     "output_type": "stream",
     "text": [
      "torch.Size([128, 18]) torch.Size([128]) torch.Size([128])\n",
      "torch.Size([128, 18]) torch.Size([128]) torch.Size([128])\n",
      "torch.Size([128, 18]) torch.Size([128]) torch.Size([128])\n",
      "torch.Size([128, 18]) torch.Size([128]) torch.Size([128])\n",
      "torch.Size([128, 18]) torch.Size([128]) torch.Size([128])\n",
      "torch.Size([128, 18]) torch.Size([128]) torch.Size([128])\n",
      "torch.Size([128, 18]) torch.Size([128]) torch.Size([128])\n",
      "torch.Size([128, 18]) torch.Size([128]) torch.Size([128])\n",
      "torch.Size([128, 18]) torch.Size([128]) torch.Size([128])\n",
      "torch.Size([128, 18]) torch.Size([128]) torch.Size([128])\n",
      "torch.Size([128, 18]) torch.Size([128]) torch.Size([128])\n",
      "torch.Size([128, 18]) torch.Size([128]) torch.Size([128])\n",
      "torch.Size([128, 18]) torch.Size([128]) torch.Size([128])\n",
      "torch.Size([128, 18]) torch.Size([128]) torch.Size([128])\n",
      "torch.Size([128, 18]) torch.Size([128]) torch.Size([128])\n",
      "torch.Size([128, 18]) torch.Size([128]) torch.Size([128])\n",
      "torch.Size([128, 18]) torch.Size([128]) torch.Size([128])\n",
      "torch.Size([128, 18]) torch.Size([128]) torch.Size([128])\n",
      "torch.Size([128, 18]) torch.Size([128]) torch.Size([128])\n",
      "torch.Size([128, 18]) torch.Size([128]) torch.Size([128])\n",
      "torch.Size([128, 18]) torch.Size([128]) torch.Size([128])\n",
      "torch.Size([128, 18]) torch.Size([128]) torch.Size([128])\n",
      "torch.Size([128, 18]) torch.Size([128]) torch.Size([128])\n",
      "torch.Size([128, 18]) torch.Size([128]) torch.Size([128])\n",
      "torch.Size([128, 18]) torch.Size([128]) torch.Size([128])\n",
      "torch.Size([128, 18]) torch.Size([128]) torch.Size([128])\n",
      "torch.Size([128, 18]) torch.Size([128]) torch.Size([128])\n",
      "torch.Size([128, 18]) torch.Size([128]) torch.Size([128])\n",
      "torch.Size([128, 18]) torch.Size([128]) torch.Size([128])\n",
      "torch.Size([128, 18]) torch.Size([128]) torch.Size([128])\n",
      "torch.Size([128, 18]) torch.Size([128]) torch.Size([128])\n",
      "torch.Size([128, 18]) torch.Size([128]) torch.Size([128])\n",
      "torch.Size([128, 18]) torch.Size([128]) torch.Size([128])\n",
      "torch.Size([128, 18]) torch.Size([128]) torch.Size([128])\n",
      "torch.Size([128, 18]) torch.Size([128]) torch.Size([128])\n",
      "torch.Size([128, 18]) torch.Size([128]) torch.Size([128])\n",
      "torch.Size([128, 18]) torch.Size([128]) torch.Size([128])\n",
      "torch.Size([128, 18]) torch.Size([128]) torch.Size([128])\n",
      "torch.Size([128, 18]) torch.Size([128]) torch.Size([128])\n",
      "torch.Size([128, 18]) torch.Size([128]) torch.Size([128])\n",
      "torch.Size([128, 18]) torch.Size([128]) torch.Size([128])\n",
      "torch.Size([128, 18]) torch.Size([128]) torch.Size([128])\n",
      "torch.Size([128, 18]) torch.Size([128]) torch.Size([128])\n",
      "torch.Size([128, 18]) torch.Size([128]) torch.Size([128])\n",
      "torch.Size([128, 18]) torch.Size([128]) torch.Size([128])\n",
      "torch.Size([128, 18]) torch.Size([128]) torch.Size([128])\n",
      "torch.Size([128, 18]) torch.Size([128]) torch.Size([128])\n",
      "torch.Size([128, 18]) torch.Size([128]) torch.Size([128])\n",
      "torch.Size([128, 18]) torch.Size([128]) torch.Size([128])\n",
      "torch.Size([128, 18]) torch.Size([128]) torch.Size([128])\n",
      "torch.Size([128, 18]) torch.Size([128]) torch.Size([128])\n",
      "torch.Size([128, 18]) torch.Size([128]) torch.Size([128])\n",
      "torch.Size([128, 18]) torch.Size([128]) torch.Size([128])\n",
      "torch.Size([128, 18]) torch.Size([128]) torch.Size([128])\n",
      "torch.Size([128, 18]) torch.Size([128]) torch.Size([128])\n",
      "torch.Size([128, 18]) torch.Size([128]) torch.Size([128])\n",
      "torch.Size([128, 18]) torch.Size([128]) torch.Size([128])\n",
      "torch.Size([128, 18]) torch.Size([128]) torch.Size([128])\n",
      "torch.Size([128, 18]) torch.Size([128]) torch.Size([128])\n",
      "torch.Size([128, 18]) torch.Size([128]) torch.Size([128])\n",
      "torch.Size([128, 18]) torch.Size([128]) torch.Size([128])\n",
      "torch.Size([128, 18]) torch.Size([128]) torch.Size([128])\n",
      "torch.Size([128, 18]) torch.Size([128]) torch.Size([128])\n",
      "torch.Size([128, 18]) torch.Size([128]) torch.Size([128])\n",
      "torch.Size([128, 18]) torch.Size([128]) torch.Size([128])\n",
      "torch.Size([128, 18]) torch.Size([128]) torch.Size([128])\n",
      "torch.Size([128, 18]) torch.Size([128]) torch.Size([128])\n",
      "torch.Size([128, 18]) torch.Size([128]) torch.Size([128])\n",
      "torch.Size([128, 18]) torch.Size([128]) torch.Size([128])\n",
      "torch.Size([128, 18]) torch.Size([128]) torch.Size([128])\n",
      "torch.Size([128, 18]) torch.Size([128]) torch.Size([128])\n",
      "torch.Size([128, 18]) torch.Size([128]) torch.Size([128])\n",
      "torch.Size([128, 18]) torch.Size([128]) torch.Size([128])\n",
      "torch.Size([128, 18]) torch.Size([128]) torch.Size([128])\n",
      "torch.Size([128, 18]) torch.Size([128]) torch.Size([128])\n",
      "torch.Size([128, 18]) torch.Size([128]) torch.Size([128])\n",
      "torch.Size([128, 18]) torch.Size([128]) torch.Size([128])\n",
      "torch.Size([128, 18]) torch.Size([128]) torch.Size([128])\n",
      "torch.Size([128, 18]) torch.Size([128]) torch.Size([128])\n",
      "torch.Size([128, 18]) torch.Size([128]) torch.Size([128])\n",
      "torch.Size([128, 18]) torch.Size([128]) torch.Size([128])\n",
      "torch.Size([128, 18]) torch.Size([128]) torch.Size([128])\n",
      "torch.Size([128, 18]) torch.Size([128]) torch.Size([128])\n",
      "torch.Size([128, 18]) torch.Size([128]) torch.Size([128])\n",
      "torch.Size([128, 18]) torch.Size([128]) torch.Size([128])\n",
      "torch.Size([128, 18]) torch.Size([128]) torch.Size([128])\n",
      "torch.Size([128, 18]) torch.Size([128]) torch.Size([128])\n",
      "torch.Size([128, 18]) torch.Size([128]) torch.Size([128])\n",
      "torch.Size([128, 18]) torch.Size([128]) torch.Size([128])\n",
      "torch.Size([128, 18]) torch.Size([128]) torch.Size([128])\n",
      "torch.Size([128, 18]) torch.Size([128]) torch.Size([128])\n",
      "torch.Size([128, 18]) torch.Size([128]) torch.Size([128])\n",
      "torch.Size([128, 18]) torch.Size([128]) torch.Size([128])\n",
      "torch.Size([128, 18]) torch.Size([128]) torch.Size([128])\n",
      "torch.Size([128, 18]) torch.Size([128]) torch.Size([128])\n",
      "torch.Size([128, 18]) torch.Size([128]) torch.Size([128])\n",
      "torch.Size([128, 18]) torch.Size([128]) torch.Size([128])\n",
      "torch.Size([128, 18]) torch.Size([128]) torch.Size([128])\n",
      "torch.Size([128, 18]) torch.Size([128]) torch.Size([128])\n",
      "torch.Size([128, 18]) torch.Size([128]) torch.Size([128])\n",
      "torch.Size([128, 18]) torch.Size([128]) torch.Size([128])\n",
      "torch.Size([128, 18]) torch.Size([128]) torch.Size([128])\n",
      "torch.Size([128, 18]) torch.Size([128]) torch.Size([128])\n",
      "torch.Size([128, 18]) torch.Size([128]) torch.Size([128])\n",
      "torch.Size([128, 18]) torch.Size([128]) torch.Size([128])\n",
      "torch.Size([128, 18]) torch.Size([128]) torch.Size([128])\n",
      "torch.Size([128, 18]) torch.Size([128]) torch.Size([128])\n",
      "torch.Size([128, 18]) torch.Size([128]) torch.Size([128])\n",
      "torch.Size([128, 18]) torch.Size([128]) torch.Size([128])\n",
      "torch.Size([128, 18]) torch.Size([128]) torch.Size([128])\n",
      "torch.Size([128, 18]) torch.Size([128]) torch.Size([128])\n",
      "torch.Size([128, 18]) torch.Size([128]) torch.Size([128])\n",
      "torch.Size([128, 18]) torch.Size([128]) torch.Size([128])\n",
      "torch.Size([128, 18]) torch.Size([128]) torch.Size([128])\n",
      "torch.Size([128, 18]) torch.Size([128]) torch.Size([128])\n",
      "torch.Size([128, 18]) torch.Size([128]) torch.Size([128])\n",
      "torch.Size([128, 18]) torch.Size([128]) torch.Size([128])\n",
      "torch.Size([128, 18]) torch.Size([128]) torch.Size([128])\n",
      "torch.Size([128, 18]) torch.Size([128]) torch.Size([128])\n",
      "torch.Size([128, 18]) torch.Size([128]) torch.Size([128])\n",
      "torch.Size([128, 18]) torch.Size([128]) torch.Size([128])\n",
      "torch.Size([128, 18]) torch.Size([128]) torch.Size([128])\n",
      "torch.Size([128, 18]) torch.Size([128]) torch.Size([128])\n",
      "torch.Size([128, 18]) torch.Size([128]) torch.Size([128])\n",
      "torch.Size([128, 18]) torch.Size([128]) torch.Size([128])\n",
      "torch.Size([128, 18]) torch.Size([128]) torch.Size([128])\n",
      "torch.Size([128, 18]) torch.Size([128]) torch.Size([128])\n",
      "torch.Size([128, 18]) torch.Size([128]) torch.Size([128])\n",
      "torch.Size([128, 18]) torch.Size([128]) torch.Size([128])\n",
      "torch.Size([128, 18]) torch.Size([128]) torch.Size([128])\n",
      "torch.Size([128, 18]) torch.Size([128]) torch.Size([128])\n",
      "torch.Size([128, 18]) torch.Size([128]) torch.Size([128])\n",
      "torch.Size([128, 18]) torch.Size([128]) torch.Size([128])\n",
      "torch.Size([128, 18]) torch.Size([128]) torch.Size([128])\n",
      "torch.Size([128, 18]) torch.Size([128]) torch.Size([128])\n",
      "torch.Size([128, 18]) torch.Size([128]) torch.Size([128])\n",
      "torch.Size([128, 18]) torch.Size([128]) torch.Size([128])\n",
      "torch.Size([128, 18]) torch.Size([128]) torch.Size([128])\n",
      "torch.Size([128, 18]) torch.Size([128]) torch.Size([128])\n",
      "torch.Size([128, 18]) torch.Size([128]) torch.Size([128])\n",
      "torch.Size([128, 18]) torch.Size([128]) torch.Size([128])\n",
      "torch.Size([128, 18]) torch.Size([128]) torch.Size([128])\n",
      "torch.Size([128, 18]) torch.Size([128]) torch.Size([128])\n",
      "torch.Size([128, 18]) torch.Size([128]) torch.Size([128])\n",
      "torch.Size([128, 18]) torch.Size([128]) torch.Size([128])\n",
      "torch.Size([128, 18]) torch.Size([128]) torch.Size([128])\n",
      "torch.Size([128, 18]) torch.Size([128]) torch.Size([128])\n",
      "torch.Size([128, 18]) torch.Size([128]) torch.Size([128])\n",
      "torch.Size([128, 18]) torch.Size([128]) torch.Size([128])\n",
      "torch.Size([128, 18]) torch.Size([128]) torch.Size([128])\n",
      "torch.Size([128, 18]) torch.Size([128]) torch.Size([128])\n",
      "torch.Size([128, 18]) torch.Size([128]) torch.Size([128])\n",
      "torch.Size([128, 18]) torch.Size([128]) torch.Size([128])\n",
      "torch.Size([128, 18]) torch.Size([128]) torch.Size([128])\n",
      "torch.Size([128, 18]) torch.Size([128]) torch.Size([128])\n",
      "torch.Size([128, 18]) torch.Size([128]) torch.Size([128])\n",
      "torch.Size([128, 18]) torch.Size([128]) torch.Size([128])\n",
      "torch.Size([128, 18]) torch.Size([128]) torch.Size([128])\n",
      "torch.Size([128, 18]) torch.Size([128]) torch.Size([128])\n",
      "torch.Size([128, 18]) torch.Size([128]) torch.Size([128])\n",
      "torch.Size([128, 18]) torch.Size([128]) torch.Size([128])\n",
      "torch.Size([128, 18]) torch.Size([128]) torch.Size([128])\n",
      "torch.Size([128, 18]) torch.Size([128]) torch.Size([128])\n",
      "torch.Size([128, 18]) torch.Size([128]) torch.Size([128])\n",
      "torch.Size([128, 18]) torch.Size([128]) torch.Size([128])\n",
      "torch.Size([128, 18]) torch.Size([128]) torch.Size([128])\n",
      "torch.Size([128, 18]) torch.Size([128]) torch.Size([128])\n",
      "torch.Size([128, 18]) torch.Size([128]) torch.Size([128])\n",
      "torch.Size([128, 18]) torch.Size([128]) torch.Size([128])\n",
      "torch.Size([128, 18]) torch.Size([128]) torch.Size([128])\n",
      "torch.Size([128, 18]) torch.Size([128]) torch.Size([128])\n",
      "torch.Size([128, 18]) torch.Size([128]) torch.Size([128])\n",
      "torch.Size([128, 18]) torch.Size([128]) torch.Size([128])\n",
      "torch.Size([128, 18]) torch.Size([128]) torch.Size([128])\n",
      "torch.Size([128, 18]) torch.Size([128]) torch.Size([128])\n",
      "torch.Size([128, 18]) torch.Size([128]) torch.Size([128])\n",
      "torch.Size([128, 18]) torch.Size([128]) torch.Size([128])\n",
      "torch.Size([128, 18]) torch.Size([128]) torch.Size([128])\n",
      "torch.Size([128, 18]) torch.Size([128]) torch.Size([128])\n",
      "torch.Size([128, 18]) torch.Size([128]) torch.Size([128])\n",
      "torch.Size([128, 18]) torch.Size([128]) torch.Size([128])\n",
      "torch.Size([128, 18]) torch.Size([128]) torch.Size([128])\n",
      "torch.Size([128, 18]) torch.Size([128]) torch.Size([128])\n",
      "torch.Size([128, 18]) torch.Size([128]) torch.Size([128])\n",
      "torch.Size([128, 18]) torch.Size([128]) torch.Size([128])\n",
      "torch.Size([128, 18]) torch.Size([128]) torch.Size([128])\n",
      "torch.Size([128, 18]) torch.Size([128]) torch.Size([128])\n",
      "torch.Size([128, 18]) torch.Size([128]) torch.Size([128])\n",
      "torch.Size([128, 18]) torch.Size([128]) torch.Size([128])\n",
      "torch.Size([128, 18]) torch.Size([128]) torch.Size([128])\n",
      "torch.Size([128, 18]) torch.Size([128]) torch.Size([128])\n",
      "torch.Size([128, 18]) torch.Size([128]) torch.Size([128])\n",
      "torch.Size([128, 18]) torch.Size([128]) torch.Size([128])\n",
      "torch.Size([128, 18]) torch.Size([128]) torch.Size([128])\n",
      "torch.Size([128, 18]) torch.Size([128]) torch.Size([128])\n",
      "torch.Size([128, 18]) torch.Size([128]) torch.Size([128])\n",
      "torch.Size([128, 18]) torch.Size([128]) torch.Size([128])\n",
      "torch.Size([128, 18]) torch.Size([128]) torch.Size([128])\n",
      "torch.Size([128, 18]) torch.Size([128]) torch.Size([128])\n",
      "torch.Size([128, 18]) torch.Size([128]) torch.Size([128])\n",
      "torch.Size([128, 18]) torch.Size([128]) torch.Size([128])\n",
      "torch.Size([128, 18]) torch.Size([128]) torch.Size([128])\n",
      "torch.Size([128, 18]) torch.Size([128]) torch.Size([128])\n",
      "torch.Size([128, 18]) torch.Size([128]) torch.Size([128])\n",
      "torch.Size([128, 18]) torch.Size([128]) torch.Size([128])\n",
      "torch.Size([128, 18]) torch.Size([128]) torch.Size([128])\n",
      "torch.Size([128, 18]) torch.Size([128]) torch.Size([128])\n",
      "torch.Size([128, 18]) torch.Size([128]) torch.Size([128])\n",
      "torch.Size([128, 18]) torch.Size([128]) torch.Size([128])\n",
      "torch.Size([128, 18]) torch.Size([128]) torch.Size([128])\n",
      "torch.Size([128, 18]) torch.Size([128]) torch.Size([128])\n",
      "torch.Size([128, 18]) torch.Size([128]) torch.Size([128])\n",
      "torch.Size([128, 18]) torch.Size([128]) torch.Size([128])\n",
      "torch.Size([128, 18]) torch.Size([128]) torch.Size([128])\n",
      "torch.Size([128, 18]) torch.Size([128]) torch.Size([128])\n",
      "torch.Size([128, 18]) torch.Size([128]) torch.Size([128])\n",
      "torch.Size([128, 18]) torch.Size([128]) torch.Size([128])\n",
      "torch.Size([128, 18]) torch.Size([128]) torch.Size([128])\n",
      "torch.Size([128, 18]) torch.Size([128]) torch.Size([128])\n",
      "torch.Size([128, 18]) torch.Size([128]) torch.Size([128])\n",
      "torch.Size([128, 18]) torch.Size([128]) torch.Size([128])\n",
      "torch.Size([128, 18]) torch.Size([128]) torch.Size([128])\n",
      "torch.Size([128, 18]) torch.Size([128]) torch.Size([128])\n",
      "torch.Size([128, 18]) torch.Size([128]) torch.Size([128])\n",
      "torch.Size([128, 18]) torch.Size([128]) torch.Size([128])\n",
      "torch.Size([128, 18]) torch.Size([128]) torch.Size([128])\n",
      "torch.Size([128, 18]) torch.Size([128]) torch.Size([128])\n",
      "torch.Size([128, 18]) torch.Size([128]) torch.Size([128])\n",
      "torch.Size([128, 18]) torch.Size([128]) torch.Size([128])\n",
      "torch.Size([128, 18]) torch.Size([128]) torch.Size([128])\n",
      "torch.Size([128, 18]) torch.Size([128]) torch.Size([128])\n",
      "torch.Size([128, 18]) torch.Size([128]) torch.Size([128])\n",
      "torch.Size([128, 18]) torch.Size([128]) torch.Size([128])\n",
      "torch.Size([128, 18]) torch.Size([128]) torch.Size([128])\n",
      "torch.Size([128, 18]) torch.Size([128]) torch.Size([128])\n",
      "torch.Size([128, 18]) torch.Size([128]) torch.Size([128])\n",
      "torch.Size([128, 18]) torch.Size([128]) torch.Size([128])\n",
      "torch.Size([128, 18]) torch.Size([128]) torch.Size([128])\n",
      "torch.Size([128, 18]) torch.Size([128]) torch.Size([128])\n",
      "torch.Size([128, 18]) torch.Size([128]) torch.Size([128])\n",
      "torch.Size([128, 18]) torch.Size([128]) torch.Size([128])\n",
      "torch.Size([128, 18]) torch.Size([128]) torch.Size([128])\n",
      "torch.Size([128, 18]) torch.Size([128]) torch.Size([128])\n",
      "torch.Size([128, 18]) torch.Size([128]) torch.Size([128])\n",
      "torch.Size([128, 18]) torch.Size([128]) torch.Size([128])\n",
      "torch.Size([128, 18]) torch.Size([128]) torch.Size([128])\n",
      "torch.Size([128, 18]) torch.Size([128]) torch.Size([128])\n",
      "torch.Size([128, 18]) torch.Size([128]) torch.Size([128])\n",
      "torch.Size([128, 18]) torch.Size([128]) torch.Size([128])\n",
      "torch.Size([128, 18]) torch.Size([128]) torch.Size([128])\n",
      "torch.Size([128, 18]) torch.Size([128]) torch.Size([128])\n",
      "torch.Size([128, 18]) torch.Size([128]) torch.Size([128])\n",
      "torch.Size([128, 18]) torch.Size([128]) torch.Size([128])\n",
      "torch.Size([128, 18]) torch.Size([128]) torch.Size([128])\n",
      "torch.Size([128, 18]) torch.Size([128]) torch.Size([128])\n",
      "torch.Size([128, 18]) torch.Size([128]) torch.Size([128])\n",
      "torch.Size([128, 18]) torch.Size([128]) torch.Size([128])\n",
      "torch.Size([128, 18]) torch.Size([128]) torch.Size([128])\n",
      "torch.Size([128, 18]) torch.Size([128]) torch.Size([128])\n",
      "torch.Size([128, 18]) torch.Size([128]) torch.Size([128])\n",
      "torch.Size([128, 18]) torch.Size([128]) torch.Size([128])\n",
      "torch.Size([128, 18]) torch.Size([128]) torch.Size([128])\n",
      "torch.Size([128, 18]) torch.Size([128]) torch.Size([128])\n",
      "torch.Size([128, 18]) torch.Size([128]) torch.Size([128])\n",
      "torch.Size([128, 18]) torch.Size([128]) torch.Size([128])\n",
      "torch.Size([128, 18]) torch.Size([128]) torch.Size([128])\n",
      "torch.Size([128, 18]) torch.Size([128]) torch.Size([128])\n",
      "torch.Size([128, 18]) torch.Size([128]) torch.Size([128])\n",
      "torch.Size([128, 18]) torch.Size([128]) torch.Size([128])\n",
      "torch.Size([128, 18]) torch.Size([128]) torch.Size([128])\n",
      "torch.Size([128, 18]) torch.Size([128]) torch.Size([128])\n",
      "torch.Size([128, 18]) torch.Size([128]) torch.Size([128])\n",
      "torch.Size([128, 18]) torch.Size([128]) torch.Size([128])\n",
      "torch.Size([128, 18]) torch.Size([128]) torch.Size([128])\n",
      "torch.Size([128, 18]) torch.Size([128]) torch.Size([128])\n",
      "torch.Size([128, 18]) torch.Size([128]) torch.Size([128])\n",
      "torch.Size([128, 18]) torch.Size([128]) torch.Size([128])\n",
      "torch.Size([128, 18]) torch.Size([128]) torch.Size([128])\n",
      "torch.Size([128, 18]) torch.Size([128]) torch.Size([128])\n",
      "torch.Size([128, 18]) torch.Size([128]) torch.Size([128])\n",
      "torch.Size([128, 18]) torch.Size([128]) torch.Size([128])\n",
      "torch.Size([128, 18]) torch.Size([128]) torch.Size([128])\n",
      "torch.Size([128, 18]) torch.Size([128]) torch.Size([128])\n",
      "torch.Size([128, 18]) torch.Size([128]) torch.Size([128])\n",
      "torch.Size([128, 18]) torch.Size([128]) torch.Size([128])\n",
      "torch.Size([128, 18]) torch.Size([128]) torch.Size([128])\n",
      "torch.Size([128, 18]) torch.Size([128]) torch.Size([128])\n",
      "torch.Size([128, 18]) torch.Size([128]) torch.Size([128])\n",
      "torch.Size([128, 18]) torch.Size([128]) torch.Size([128])\n",
      "torch.Size([128, 18]) torch.Size([128]) torch.Size([128])\n",
      "torch.Size([128, 18]) torch.Size([128]) torch.Size([128])\n",
      "torch.Size([128, 18]) torch.Size([128]) torch.Size([128])\n",
      "torch.Size([128, 18]) torch.Size([128]) torch.Size([128])\n",
      "torch.Size([128, 18]) torch.Size([128]) torch.Size([128])\n",
      "torch.Size([128, 18]) torch.Size([128]) torch.Size([128])\n",
      "torch.Size([128, 18]) torch.Size([128]) torch.Size([128])\n",
      "torch.Size([128, 18]) torch.Size([128]) torch.Size([128])\n",
      "torch.Size([128, 18]) torch.Size([128]) torch.Size([128])\n",
      "torch.Size([128, 18]) torch.Size([128]) torch.Size([128])\n",
      "torch.Size([128, 18]) torch.Size([128]) torch.Size([128])\n",
      "torch.Size([128, 18]) torch.Size([128]) torch.Size([128])\n",
      "torch.Size([128, 18]) torch.Size([128]) torch.Size([128])\n",
      "torch.Size([128, 18]) torch.Size([128]) torch.Size([128])\n",
      "torch.Size([128, 18]) torch.Size([128]) torch.Size([128])\n",
      "torch.Size([128, 18]) torch.Size([128]) torch.Size([128])\n",
      "torch.Size([128, 18]) torch.Size([128]) torch.Size([128])\n",
      "torch.Size([128, 18]) torch.Size([128]) torch.Size([128])\n",
      "torch.Size([128, 18]) torch.Size([128]) torch.Size([128])\n",
      "torch.Size([128, 18]) torch.Size([128]) torch.Size([128])\n",
      "torch.Size([128, 18]) torch.Size([128]) torch.Size([128])\n",
      "torch.Size([128, 18]) torch.Size([128]) torch.Size([128])\n",
      "torch.Size([128, 18]) torch.Size([128]) torch.Size([128])\n",
      "torch.Size([128, 18]) torch.Size([128]) torch.Size([128])\n",
      "torch.Size([128, 18]) torch.Size([128]) torch.Size([128])\n",
      "torch.Size([128, 18]) torch.Size([128]) torch.Size([128])\n",
      "torch.Size([128, 18]) torch.Size([128]) torch.Size([128])\n",
      "torch.Size([128, 18]) torch.Size([128]) torch.Size([128])\n",
      "torch.Size([128, 18]) torch.Size([128]) torch.Size([128])\n",
      "torch.Size([128, 18]) torch.Size([128]) torch.Size([128])\n",
      "torch.Size([128, 18]) torch.Size([128]) torch.Size([128])\n",
      "torch.Size([128, 18]) torch.Size([128]) torch.Size([128])\n",
      "torch.Size([128, 18]) torch.Size([128]) torch.Size([128])\n",
      "torch.Size([128, 18]) torch.Size([128]) torch.Size([128])\n",
      "torch.Size([128, 18]) torch.Size([128]) torch.Size([128])\n",
      "torch.Size([128, 18]) torch.Size([128]) torch.Size([128])\n",
      "torch.Size([128, 18]) torch.Size([128]) torch.Size([128])\n",
      "torch.Size([128, 18]) torch.Size([128]) torch.Size([128])\n",
      "torch.Size([128, 18]) torch.Size([128]) torch.Size([128])\n",
      "torch.Size([128, 18]) torch.Size([128]) torch.Size([128])\n",
      "torch.Size([128, 18]) torch.Size([128]) torch.Size([128])\n",
      "torch.Size([128, 18]) torch.Size([128]) torch.Size([128])\n",
      "torch.Size([128, 18]) torch.Size([128]) torch.Size([128])\n",
      "torch.Size([128, 18]) torch.Size([128]) torch.Size([128])\n",
      "torch.Size([128, 18]) torch.Size([128]) torch.Size([128])\n",
      "torch.Size([128, 18]) torch.Size([128]) torch.Size([128])\n",
      "torch.Size([128, 18]) torch.Size([128]) torch.Size([128])\n",
      "torch.Size([128, 18]) torch.Size([128]) torch.Size([128])\n",
      "torch.Size([128, 18]) torch.Size([128]) torch.Size([128])\n",
      "torch.Size([128, 18]) torch.Size([128]) torch.Size([128])\n",
      "torch.Size([128, 18]) torch.Size([128]) torch.Size([128])\n",
      "torch.Size([128, 18]) torch.Size([128]) torch.Size([128])\n",
      "torch.Size([128, 18]) torch.Size([128]) torch.Size([128])\n",
      "torch.Size([128, 18]) torch.Size([128]) torch.Size([128])\n",
      "torch.Size([128, 18]) torch.Size([128]) torch.Size([128])\n",
      "torch.Size([128, 18]) torch.Size([128]) torch.Size([128])\n",
      "torch.Size([128, 18]) torch.Size([128]) torch.Size([128])\n",
      "torch.Size([128, 18]) torch.Size([128]) torch.Size([128])\n",
      "torch.Size([128, 18]) torch.Size([128]) torch.Size([128])\n",
      "torch.Size([128, 18]) torch.Size([128]) torch.Size([128])\n",
      "torch.Size([128, 18]) torch.Size([128]) torch.Size([128])\n",
      "torch.Size([128, 18]) torch.Size([128]) torch.Size([128])\n",
      "torch.Size([128, 18]) torch.Size([128]) torch.Size([128])\n",
      "torch.Size([128, 18]) torch.Size([128]) torch.Size([128])\n",
      "torch.Size([128, 18]) torch.Size([128]) torch.Size([128])\n",
      "torch.Size([128, 18]) torch.Size([128]) torch.Size([128])\n",
      "torch.Size([128, 18]) torch.Size([128]) torch.Size([128])\n",
      "torch.Size([128, 18]) torch.Size([128]) torch.Size([128])\n",
      "torch.Size([128, 18]) torch.Size([128]) torch.Size([128])\n",
      "torch.Size([128, 18]) torch.Size([128]) torch.Size([128])\n",
      "torch.Size([128, 18]) torch.Size([128]) torch.Size([128])\n",
      "torch.Size([128, 18]) torch.Size([128]) torch.Size([128])\n",
      "torch.Size([128, 18]) torch.Size([128]) torch.Size([128])\n",
      "torch.Size([128, 18]) torch.Size([128]) torch.Size([128])\n",
      "torch.Size([128, 18]) torch.Size([128]) torch.Size([128])\n",
      "torch.Size([128, 18]) torch.Size([128]) torch.Size([128])\n",
      "torch.Size([128, 18]) torch.Size([128]) torch.Size([128])\n",
      "torch.Size([128, 18]) torch.Size([128]) torch.Size([128])\n",
      "torch.Size([128, 18]) torch.Size([128]) torch.Size([128])\n",
      "torch.Size([128, 18]) torch.Size([128]) torch.Size([128])\n",
      "torch.Size([128, 18]) torch.Size([128]) torch.Size([128])\n",
      "torch.Size([128, 18]) torch.Size([128]) torch.Size([128])\n",
      "torch.Size([128, 18]) torch.Size([128]) torch.Size([128])\n",
      "torch.Size([128, 18]) torch.Size([128]) torch.Size([128])\n",
      "torch.Size([128, 18]) torch.Size([128]) torch.Size([128])\n",
      "torch.Size([128, 18]) torch.Size([128]) torch.Size([128])\n",
      "torch.Size([128, 18]) torch.Size([128]) torch.Size([128])\n",
      "torch.Size([128, 18]) torch.Size([128]) torch.Size([128])\n",
      "torch.Size([128, 18]) torch.Size([128]) torch.Size([128])\n",
      "torch.Size([128, 18]) torch.Size([128]) torch.Size([128])\n",
      "torch.Size([128, 18]) torch.Size([128]) torch.Size([128])\n",
      "torch.Size([128, 18]) torch.Size([128]) torch.Size([128])\n",
      "torch.Size([128, 18]) torch.Size([128]) torch.Size([128])\n",
      "torch.Size([128, 18]) torch.Size([128]) torch.Size([128])\n",
      "torch.Size([128, 18]) torch.Size([128]) torch.Size([128])\n",
      "torch.Size([128, 18]) torch.Size([128]) torch.Size([128])\n",
      "torch.Size([128, 18]) torch.Size([128]) torch.Size([128])\n",
      "torch.Size([128, 18]) torch.Size([128]) torch.Size([128])\n",
      "torch.Size([128, 18]) torch.Size([128]) torch.Size([128])\n",
      "torch.Size([128, 18]) torch.Size([128]) torch.Size([128])\n",
      "torch.Size([128, 18]) torch.Size([128]) torch.Size([128])\n",
      "torch.Size([128, 18]) torch.Size([128]) torch.Size([128])\n",
      "torch.Size([128, 18]) torch.Size([128]) torch.Size([128])\n",
      "torch.Size([128, 18]) torch.Size([128]) torch.Size([128])\n",
      "torch.Size([128, 18]) torch.Size([128]) torch.Size([128])\n",
      "torch.Size([128, 18]) torch.Size([128]) torch.Size([128])\n",
      "torch.Size([128, 18]) torch.Size([128]) torch.Size([128])\n",
      "torch.Size([128, 18]) torch.Size([128]) torch.Size([128])\n",
      "torch.Size([128, 18]) torch.Size([128]) torch.Size([128])\n",
      "torch.Size([128, 18]) torch.Size([128]) torch.Size([128])\n",
      "torch.Size([128, 18]) torch.Size([128]) torch.Size([128])\n",
      "torch.Size([128, 18]) torch.Size([128]) torch.Size([128])\n",
      "torch.Size([128, 18]) torch.Size([128]) torch.Size([128])\n",
      "torch.Size([128, 18]) torch.Size([128]) torch.Size([128])\n",
      "torch.Size([128, 18]) torch.Size([128]) torch.Size([128])\n",
      "torch.Size([128, 18]) torch.Size([128]) torch.Size([128])\n",
      "torch.Size([128, 18]) torch.Size([128]) torch.Size([128])\n",
      "torch.Size([128, 18]) torch.Size([128]) torch.Size([128])\n",
      "torch.Size([128, 18]) torch.Size([128]) torch.Size([128])\n",
      "torch.Size([128, 18]) torch.Size([128]) torch.Size([128])\n",
      "torch.Size([128, 18]) torch.Size([128]) torch.Size([128])\n",
      "torch.Size([128, 18]) torch.Size([128]) torch.Size([128])\n",
      "torch.Size([128, 18]) torch.Size([128]) torch.Size([128])\n",
      "torch.Size([128, 18]) torch.Size([128]) torch.Size([128])\n",
      "torch.Size([128, 18]) torch.Size([128]) torch.Size([128])\n",
      "torch.Size([128, 18]) torch.Size([128]) torch.Size([128])\n",
      "torch.Size([128, 18]) torch.Size([128]) torch.Size([128])\n",
      "torch.Size([128, 18]) torch.Size([128]) torch.Size([128])\n",
      "torch.Size([128, 18]) torch.Size([128]) torch.Size([128])\n",
      "torch.Size([128, 18]) torch.Size([128]) torch.Size([128])\n",
      "torch.Size([128, 18]) torch.Size([128]) torch.Size([128])\n",
      "torch.Size([128, 18]) torch.Size([128]) torch.Size([128])\n",
      "torch.Size([128, 18]) torch.Size([128]) torch.Size([128])\n",
      "torch.Size([128, 18]) torch.Size([128]) torch.Size([128])\n",
      "torch.Size([128, 18]) torch.Size([128]) torch.Size([128])\n",
      "torch.Size([128, 18]) torch.Size([128]) torch.Size([128])\n",
      "torch.Size([128, 18]) torch.Size([128]) torch.Size([128])\n",
      "torch.Size([128, 18]) torch.Size([128]) torch.Size([128])\n",
      "torch.Size([128, 18]) torch.Size([128]) torch.Size([128])\n",
      "torch.Size([128, 18]) torch.Size([128]) torch.Size([128])\n",
      "torch.Size([128, 18]) torch.Size([128]) torch.Size([128])\n",
      "torch.Size([128, 18]) torch.Size([128]) torch.Size([128])\n",
      "torch.Size([128, 18]) torch.Size([128]) torch.Size([128])\n",
      "torch.Size([128, 18]) torch.Size([128]) torch.Size([128])\n",
      "torch.Size([128, 18]) torch.Size([128]) torch.Size([128])\n",
      "torch.Size([128, 18]) torch.Size([128]) torch.Size([128])\n",
      "torch.Size([128, 18]) torch.Size([128]) torch.Size([128])\n",
      "torch.Size([128, 18]) torch.Size([128]) torch.Size([128])\n",
      "torch.Size([128, 18]) torch.Size([128]) torch.Size([128])\n",
      "torch.Size([128, 18]) torch.Size([128]) torch.Size([128])\n",
      "torch.Size([128, 18]) torch.Size([128]) torch.Size([128])\n",
      "torch.Size([128, 18]) torch.Size([128]) torch.Size([128])\n",
      "torch.Size([128, 18]) torch.Size([128]) torch.Size([128])\n",
      "torch.Size([128, 18]) torch.Size([128]) torch.Size([128])\n",
      "torch.Size([128, 18]) torch.Size([128]) torch.Size([128])\n",
      "torch.Size([128, 18]) torch.Size([128]) torch.Size([128])\n",
      "torch.Size([128, 18]) torch.Size([128]) torch.Size([128])\n",
      "torch.Size([128, 18]) torch.Size([128]) torch.Size([128])\n",
      "torch.Size([128, 18]) torch.Size([128]) torch.Size([128])\n",
      "torch.Size([128, 18]) torch.Size([128]) torch.Size([128])\n",
      "torch.Size([128, 18]) torch.Size([128]) torch.Size([128])\n",
      "torch.Size([128, 18]) torch.Size([128]) torch.Size([128])\n",
      "torch.Size([128, 18]) torch.Size([128]) torch.Size([128])\n",
      "torch.Size([128, 18]) torch.Size([128]) torch.Size([128])\n",
      "torch.Size([128, 18]) torch.Size([128]) torch.Size([128])\n",
      "torch.Size([128, 18]) torch.Size([128]) torch.Size([128])\n",
      "torch.Size([128, 18]) torch.Size([128]) torch.Size([128])\n",
      "torch.Size([128, 18]) torch.Size([128]) torch.Size([128])\n",
      "torch.Size([128, 18]) torch.Size([128]) torch.Size([128])\n",
      "torch.Size([128, 18]) torch.Size([128]) torch.Size([128])\n",
      "torch.Size([128, 18]) torch.Size([128]) torch.Size([128])\n",
      "torch.Size([128, 18]) torch.Size([128]) torch.Size([128])\n",
      "torch.Size([128, 18]) torch.Size([128]) torch.Size([128])\n",
      "torch.Size([128, 18]) torch.Size([128]) torch.Size([128])\n",
      "torch.Size([128, 18]) torch.Size([128]) torch.Size([128])\n",
      "torch.Size([128, 18]) torch.Size([128]) torch.Size([128])\n",
      "torch.Size([128, 18]) torch.Size([128]) torch.Size([128])\n",
      "torch.Size([128, 18]) torch.Size([128]) torch.Size([128])\n",
      "torch.Size([128, 18]) torch.Size([128]) torch.Size([128])\n",
      "torch.Size([128, 18]) torch.Size([128]) torch.Size([128])\n",
      "torch.Size([128, 18]) torch.Size([128]) torch.Size([128])\n",
      "torch.Size([128, 18]) torch.Size([128]) torch.Size([128])\n",
      "torch.Size([128, 18]) torch.Size([128]) torch.Size([128])\n",
      "torch.Size([128, 18]) torch.Size([128]) torch.Size([128])\n",
      "torch.Size([128, 18]) torch.Size([128]) torch.Size([128])\n",
      "torch.Size([128, 18]) torch.Size([128]) torch.Size([128])\n",
      "torch.Size([128, 18]) torch.Size([128]) torch.Size([128])\n",
      "torch.Size([128, 18]) torch.Size([128]) torch.Size([128])\n",
      "torch.Size([128, 18]) torch.Size([128]) torch.Size([128])\n",
      "torch.Size([128, 18]) torch.Size([128]) torch.Size([128])\n",
      "torch.Size([128, 18]) torch.Size([128]) torch.Size([128])\n",
      "torch.Size([128, 18]) torch.Size([128]) torch.Size([128])\n",
      "torch.Size([128, 18]) torch.Size([128]) torch.Size([128])\n",
      "torch.Size([128, 18]) torch.Size([128]) torch.Size([128])\n",
      "torch.Size([128, 18]) torch.Size([128]) torch.Size([128])\n",
      "torch.Size([128, 18]) torch.Size([128]) torch.Size([128])\n",
      "torch.Size([128, 18]) torch.Size([128]) torch.Size([128])\n",
      "torch.Size([128, 18]) torch.Size([128]) torch.Size([128])\n",
      "torch.Size([128, 18]) torch.Size([128]) torch.Size([128])\n",
      "torch.Size([128, 18]) torch.Size([128]) torch.Size([128])\n",
      "torch.Size([128, 18]) torch.Size([128]) torch.Size([128])\n",
      "torch.Size([128, 18]) torch.Size([128]) torch.Size([128])\n",
      "torch.Size([128, 18]) torch.Size([128]) torch.Size([128])\n",
      "torch.Size([128, 18]) torch.Size([128]) torch.Size([128])\n",
      "torch.Size([128, 18]) torch.Size([128]) torch.Size([128])\n",
      "torch.Size([128, 18]) torch.Size([128]) torch.Size([128])\n",
      "torch.Size([128, 18]) torch.Size([128]) torch.Size([128])\n",
      "torch.Size([128, 18]) torch.Size([128]) torch.Size([128])\n",
      "torch.Size([128, 18]) torch.Size([128]) torch.Size([128])\n",
      "torch.Size([128, 18]) torch.Size([128]) torch.Size([128])\n",
      "torch.Size([128, 18]) torch.Size([128]) torch.Size([128])\n",
      "torch.Size([128, 18]) torch.Size([128]) torch.Size([128])\n",
      "torch.Size([128, 18]) torch.Size([128]) torch.Size([128])\n",
      "torch.Size([128, 18]) torch.Size([128]) torch.Size([128])\n",
      "torch.Size([128, 18]) torch.Size([128]) torch.Size([128])\n",
      "torch.Size([128, 18]) torch.Size([128]) torch.Size([128])\n",
      "torch.Size([128, 18]) torch.Size([128]) torch.Size([128])\n",
      "torch.Size([128, 18]) torch.Size([128]) torch.Size([128])\n",
      "torch.Size([128, 18]) torch.Size([128]) torch.Size([128])\n",
      "torch.Size([128, 18]) torch.Size([128]) torch.Size([128])\n",
      "torch.Size([128, 18]) torch.Size([128]) torch.Size([128])\n",
      "torch.Size([128, 18]) torch.Size([128]) torch.Size([128])\n",
      "torch.Size([128, 18]) torch.Size([128]) torch.Size([128])\n",
      "torch.Size([128, 18]) torch.Size([128]) torch.Size([128])\n",
      "torch.Size([128, 18]) torch.Size([128]) torch.Size([128])\n",
      "torch.Size([128, 18]) torch.Size([128]) torch.Size([128])\n",
      "torch.Size([128, 18]) torch.Size([128]) torch.Size([128])\n",
      "torch.Size([128, 18]) torch.Size([128]) torch.Size([128])\n",
      "torch.Size([128, 18]) torch.Size([128]) torch.Size([128])\n",
      "torch.Size([128, 18]) torch.Size([128]) torch.Size([128])\n",
      "torch.Size([128, 18]) torch.Size([128]) torch.Size([128])\n",
      "torch.Size([128, 18]) torch.Size([128]) torch.Size([128])\n",
      "torch.Size([128, 18]) torch.Size([128]) torch.Size([128])\n",
      "torch.Size([128, 18]) torch.Size([128]) torch.Size([128])\n",
      "torch.Size([128, 18]) torch.Size([128]) torch.Size([128])\n",
      "torch.Size([128, 18]) torch.Size([128]) torch.Size([128])\n",
      "torch.Size([128, 18]) torch.Size([128]) torch.Size([128])\n",
      "torch.Size([128, 18]) torch.Size([128]) torch.Size([128])\n",
      "torch.Size([128, 18]) torch.Size([128]) torch.Size([128])\n",
      "torch.Size([128, 18]) torch.Size([128]) torch.Size([128])\n",
      "torch.Size([128, 18]) torch.Size([128]) torch.Size([128])\n",
      "torch.Size([128, 18]) torch.Size([128]) torch.Size([128])\n",
      "torch.Size([128, 18]) torch.Size([128]) torch.Size([128])\n",
      "torch.Size([128, 18]) torch.Size([128]) torch.Size([128])\n",
      "torch.Size([128, 18]) torch.Size([128]) torch.Size([128])\n",
      "torch.Size([128, 18]) torch.Size([128]) torch.Size([128])\n",
      "torch.Size([128, 18]) torch.Size([128]) torch.Size([128])\n",
      "torch.Size([128, 18]) torch.Size([128]) torch.Size([128])\n",
      "torch.Size([128, 18]) torch.Size([128]) torch.Size([128])\n",
      "torch.Size([128, 18]) torch.Size([128]) torch.Size([128])\n",
      "torch.Size([128, 18]) torch.Size([128]) torch.Size([128])\n",
      "torch.Size([128, 18]) torch.Size([128]) torch.Size([128])\n",
      "torch.Size([128, 18]) torch.Size([128]) torch.Size([128])\n",
      "torch.Size([128, 18]) torch.Size([128]) torch.Size([128])\n",
      "torch.Size([128, 18]) torch.Size([128]) torch.Size([128])\n",
      "torch.Size([128, 18]) torch.Size([128]) torch.Size([128])\n",
      "torch.Size([128, 18]) torch.Size([128]) torch.Size([128])\n",
      "torch.Size([128, 18]) torch.Size([128]) torch.Size([128])\n",
      "torch.Size([128, 18]) torch.Size([128]) torch.Size([128])\n",
      "torch.Size([128, 18]) torch.Size([128]) torch.Size([128])\n",
      "torch.Size([128, 18]) torch.Size([128]) torch.Size([128])\n",
      "torch.Size([128, 18]) torch.Size([128]) torch.Size([128])\n",
      "torch.Size([128, 18]) torch.Size([128]) torch.Size([128])\n",
      "torch.Size([128, 18]) torch.Size([128]) torch.Size([128])\n",
      "torch.Size([128, 18]) torch.Size([128]) torch.Size([128])\n",
      "torch.Size([128, 18]) torch.Size([128]) torch.Size([128])\n",
      "torch.Size([128, 18]) torch.Size([128]) torch.Size([128])\n",
      "torch.Size([128, 18]) torch.Size([128]) torch.Size([128])\n",
      "torch.Size([128, 18]) torch.Size([128]) torch.Size([128])\n",
      "torch.Size([128, 18]) torch.Size([128]) torch.Size([128])\n",
      "torch.Size([128, 18]) torch.Size([128]) torch.Size([128])\n",
      "torch.Size([128, 18]) torch.Size([128]) torch.Size([128])\n",
      "torch.Size([128, 18]) torch.Size([128]) torch.Size([128])\n",
      "torch.Size([128, 18]) torch.Size([128]) torch.Size([128])\n",
      "torch.Size([128, 18]) torch.Size([128]) torch.Size([128])\n",
      "torch.Size([128, 18]) torch.Size([128]) torch.Size([128])\n",
      "torch.Size([128, 18]) torch.Size([128]) torch.Size([128])\n",
      "torch.Size([128, 18]) torch.Size([128]) torch.Size([128])\n",
      "torch.Size([128, 18]) torch.Size([128]) torch.Size([128])\n",
      "torch.Size([128, 18]) torch.Size([128]) torch.Size([128])\n",
      "torch.Size([128, 18]) torch.Size([128]) torch.Size([128])\n",
      "torch.Size([128, 18]) torch.Size([128]) torch.Size([128])\n",
      "torch.Size([128, 18]) torch.Size([128]) torch.Size([128])\n",
      "torch.Size([128, 18]) torch.Size([128]) torch.Size([128])\n",
      "torch.Size([128, 18]) torch.Size([128]) torch.Size([128])\n",
      "torch.Size([128, 18]) torch.Size([128]) torch.Size([128])\n",
      "torch.Size([128, 18]) torch.Size([128]) torch.Size([128])\n",
      "torch.Size([128, 18]) torch.Size([128]) torch.Size([128])\n",
      "torch.Size([128, 18]) torch.Size([128]) torch.Size([128])\n",
      "torch.Size([128, 18]) torch.Size([128]) torch.Size([128])\n",
      "torch.Size([128, 18]) torch.Size([128]) torch.Size([128])\n",
      "torch.Size([128, 18]) torch.Size([128]) torch.Size([128])\n",
      "torch.Size([128, 18]) torch.Size([128]) torch.Size([128])\n",
      "torch.Size([128, 18]) torch.Size([128]) torch.Size([128])\n",
      "torch.Size([128, 18]) torch.Size([128]) torch.Size([128])\n",
      "torch.Size([128, 18]) torch.Size([128]) torch.Size([128])\n",
      "torch.Size([128, 18]) torch.Size([128]) torch.Size([128])\n",
      "torch.Size([128, 18]) torch.Size([128]) torch.Size([128])\n",
      "torch.Size([128, 18]) torch.Size([128]) torch.Size([128])\n",
      "torch.Size([128, 18]) torch.Size([128]) torch.Size([128])\n",
      "torch.Size([128, 18]) torch.Size([128]) torch.Size([128])\n",
      "torch.Size([128, 18]) torch.Size([128]) torch.Size([128])\n",
      "torch.Size([128, 18]) torch.Size([128]) torch.Size([128])\n",
      "torch.Size([128, 18]) torch.Size([128]) torch.Size([128])\n",
      "torch.Size([128, 18]) torch.Size([128]) torch.Size([128])\n",
      "torch.Size([128, 18]) torch.Size([128]) torch.Size([128])\n",
      "torch.Size([128, 18]) torch.Size([128]) torch.Size([128])\n",
      "torch.Size([128, 18]) torch.Size([128]) torch.Size([128])\n",
      "torch.Size([128, 18]) torch.Size([128]) torch.Size([128])\n",
      "torch.Size([128, 18]) torch.Size([128]) torch.Size([128])\n",
      "torch.Size([128, 18]) torch.Size([128]) torch.Size([128])\n",
      "torch.Size([128, 18]) torch.Size([128]) torch.Size([128])\n",
      "torch.Size([128, 18]) torch.Size([128]) torch.Size([128])\n",
      "torch.Size([128, 18]) torch.Size([128]) torch.Size([128])\n",
      "torch.Size([128, 18]) torch.Size([128]) torch.Size([128])\n",
      "torch.Size([128, 18]) torch.Size([128]) torch.Size([128])\n",
      "torch.Size([128, 18]) torch.Size([128]) torch.Size([128])\n",
      "torch.Size([128, 18]) torch.Size([128]) torch.Size([128])\n",
      "torch.Size([128, 18]) torch.Size([128]) torch.Size([128])\n",
      "torch.Size([128, 18]) torch.Size([128]) torch.Size([128])\n",
      "torch.Size([128, 18]) torch.Size([128]) torch.Size([128])\n",
      "torch.Size([128, 18]) torch.Size([128]) torch.Size([128])\n",
      "torch.Size([128, 18]) torch.Size([128]) torch.Size([128])\n",
      "torch.Size([128, 18]) torch.Size([128]) torch.Size([128])\n",
      "torch.Size([128, 18]) torch.Size([128]) torch.Size([128])\n",
      "torch.Size([128, 18]) torch.Size([128]) torch.Size([128])\n",
      "torch.Size([128, 18]) torch.Size([128]) torch.Size([128])\n",
      "torch.Size([128, 18]) torch.Size([128]) torch.Size([128])\n",
      "torch.Size([128, 18]) torch.Size([128]) torch.Size([128])\n",
      "torch.Size([128, 18]) torch.Size([128]) torch.Size([128])\n",
      "torch.Size([128, 18]) torch.Size([128]) torch.Size([128])\n",
      "torch.Size([128, 18]) torch.Size([128]) torch.Size([128])\n",
      "torch.Size([128, 18]) torch.Size([128]) torch.Size([128])\n",
      "torch.Size([128, 18]) torch.Size([128]) torch.Size([128])\n",
      "torch.Size([128, 18]) torch.Size([128]) torch.Size([128])\n",
      "torch.Size([128, 18]) torch.Size([128]) torch.Size([128])\n",
      "torch.Size([128, 18]) torch.Size([128]) torch.Size([128])\n",
      "torch.Size([128, 18]) torch.Size([128]) torch.Size([128])\n",
      "torch.Size([128, 18]) torch.Size([128]) torch.Size([128])\n",
      "torch.Size([128, 18]) torch.Size([128]) torch.Size([128])\n",
      "torch.Size([128, 18]) torch.Size([128]) torch.Size([128])\n",
      "torch.Size([128, 18]) torch.Size([128]) torch.Size([128])\n",
      "torch.Size([128, 18]) torch.Size([128]) torch.Size([128])\n",
      "torch.Size([128, 18]) torch.Size([128]) torch.Size([128])\n",
      "torch.Size([128, 18]) torch.Size([128]) torch.Size([128])\n",
      "torch.Size([128, 18]) torch.Size([128]) torch.Size([128])\n",
      "torch.Size([128, 18]) torch.Size([128]) torch.Size([128])\n",
      "torch.Size([128, 18]) torch.Size([128]) torch.Size([128])\n",
      "torch.Size([128, 18]) torch.Size([128]) torch.Size([128])\n",
      "torch.Size([128, 18]) torch.Size([128]) torch.Size([128])\n",
      "torch.Size([128, 18]) torch.Size([128]) torch.Size([128])\n",
      "torch.Size([128, 18]) torch.Size([128]) torch.Size([128])\n",
      "torch.Size([128, 18]) torch.Size([128]) torch.Size([128])\n",
      "torch.Size([128, 18]) torch.Size([128]) torch.Size([128])\n",
      "torch.Size([128, 18]) torch.Size([128]) torch.Size([128])\n",
      "torch.Size([128, 18]) torch.Size([128]) torch.Size([128])\n",
      "torch.Size([128, 18]) torch.Size([128]) torch.Size([128])\n",
      "torch.Size([128, 18]) torch.Size([128]) torch.Size([128])\n",
      "torch.Size([128, 18]) torch.Size([128]) torch.Size([128])\n",
      "torch.Size([128, 18]) torch.Size([128]) torch.Size([128])\n",
      "torch.Size([128, 18]) torch.Size([128]) torch.Size([128])\n",
      "torch.Size([128, 18]) torch.Size([128]) torch.Size([128])\n",
      "torch.Size([128, 18]) torch.Size([128]) torch.Size([128])\n",
      "torch.Size([128, 18]) torch.Size([128]) torch.Size([128])\n",
      "torch.Size([128, 18]) torch.Size([128]) torch.Size([128])\n",
      "torch.Size([128, 18]) torch.Size([128]) torch.Size([128])\n",
      "torch.Size([128, 18]) torch.Size([128]) torch.Size([128])\n",
      "torch.Size([128, 18]) torch.Size([128]) torch.Size([128])\n",
      "torch.Size([128, 18]) torch.Size([128]) torch.Size([128])\n",
      "torch.Size([128, 18]) torch.Size([128]) torch.Size([128])\n",
      "torch.Size([128, 18]) torch.Size([128]) torch.Size([128])\n",
      "torch.Size([128, 18]) torch.Size([128]) torch.Size([128])\n",
      "torch.Size([128, 18]) torch.Size([128]) torch.Size([128])\n",
      "torch.Size([128, 18]) torch.Size([128]) torch.Size([128])\n",
      "torch.Size([128, 18]) torch.Size([128]) torch.Size([128])\n",
      "torch.Size([128, 18]) torch.Size([128]) torch.Size([128])\n",
      "torch.Size([128, 18]) torch.Size([128]) torch.Size([128])\n",
      "torch.Size([128, 18]) torch.Size([128]) torch.Size([128])\n",
      "torch.Size([128, 18]) torch.Size([128]) torch.Size([128])\n",
      "torch.Size([128, 18]) torch.Size([128]) torch.Size([128])\n",
      "torch.Size([128, 18]) torch.Size([128]) torch.Size([128])\n",
      "torch.Size([128, 18]) torch.Size([128]) torch.Size([128])\n",
      "torch.Size([128, 18]) torch.Size([128]) torch.Size([128])\n",
      "torch.Size([128, 18]) torch.Size([128]) torch.Size([128])\n",
      "torch.Size([128, 18]) torch.Size([128]) torch.Size([128])\n",
      "torch.Size([128, 18]) torch.Size([128]) torch.Size([128])\n",
      "torch.Size([128, 18]) torch.Size([128]) torch.Size([128])\n",
      "torch.Size([128, 18]) torch.Size([128]) torch.Size([128])\n",
      "torch.Size([128, 18]) torch.Size([128]) torch.Size([128])\n",
      "torch.Size([128, 18]) torch.Size([128]) torch.Size([128])\n",
      "torch.Size([128, 18]) torch.Size([128]) torch.Size([128])\n",
      "torch.Size([128, 18]) torch.Size([128]) torch.Size([128])\n",
      "torch.Size([128, 18]) torch.Size([128]) torch.Size([128])\n",
      "torch.Size([128, 18]) torch.Size([128]) torch.Size([128])\n",
      "torch.Size([128, 18]) torch.Size([128]) torch.Size([128])\n",
      "torch.Size([128, 18]) torch.Size([128]) torch.Size([128])\n",
      "torch.Size([128, 18]) torch.Size([128]) torch.Size([128])\n",
      "torch.Size([128, 18]) torch.Size([128]) torch.Size([128])\n",
      "torch.Size([128, 18]) torch.Size([128]) torch.Size([128])\n",
      "torch.Size([128, 18]) torch.Size([128]) torch.Size([128])\n",
      "torch.Size([128, 18]) torch.Size([128]) torch.Size([128])\n",
      "torch.Size([128, 18]) torch.Size([128]) torch.Size([128])\n",
      "torch.Size([128, 18]) torch.Size([128]) torch.Size([128])\n",
      "torch.Size([128, 18]) torch.Size([128]) torch.Size([128])\n",
      "torch.Size([128, 18]) torch.Size([128]) torch.Size([128])\n",
      "torch.Size([128, 18]) torch.Size([128]) torch.Size([128])\n",
      "torch.Size([128, 18]) torch.Size([128]) torch.Size([128])\n",
      "torch.Size([128, 18]) torch.Size([128]) torch.Size([128])\n",
      "torch.Size([128, 18]) torch.Size([128]) torch.Size([128])\n",
      "torch.Size([128, 18]) torch.Size([128]) torch.Size([128])\n",
      "torch.Size([128, 18]) torch.Size([128]) torch.Size([128])\n",
      "torch.Size([128, 18]) torch.Size([128]) torch.Size([128])\n",
      "torch.Size([128, 18]) torch.Size([128]) torch.Size([128])\n",
      "torch.Size([128, 18]) torch.Size([128]) torch.Size([128])\n",
      "torch.Size([128, 18]) torch.Size([128]) torch.Size([128])\n",
      "torch.Size([128, 18]) torch.Size([128]) torch.Size([128])\n",
      "torch.Size([128, 18]) torch.Size([128]) torch.Size([128])\n",
      "torch.Size([128, 18]) torch.Size([128]) torch.Size([128])\n",
      "torch.Size([128, 18]) torch.Size([128]) torch.Size([128])\n",
      "torch.Size([128, 18]) torch.Size([128]) torch.Size([128])\n",
      "torch.Size([128, 18]) torch.Size([128]) torch.Size([128])\n",
      "torch.Size([128, 18]) torch.Size([128]) torch.Size([128])\n",
      "torch.Size([128, 18]) torch.Size([128]) torch.Size([128])\n",
      "torch.Size([128, 18]) torch.Size([128]) torch.Size([128])\n",
      "torch.Size([128, 18]) torch.Size([128]) torch.Size([128])\n",
      "torch.Size([128, 18]) torch.Size([128]) torch.Size([128])\n",
      "torch.Size([128, 18]) torch.Size([128]) torch.Size([128])\n",
      "torch.Size([128, 18]) torch.Size([128]) torch.Size([128])\n",
      "torch.Size([128, 18]) torch.Size([128]) torch.Size([128])\n",
      "torch.Size([128, 18]) torch.Size([128]) torch.Size([128])\n",
      "torch.Size([128, 18]) torch.Size([128]) torch.Size([128])\n",
      "torch.Size([128, 18]) torch.Size([128]) torch.Size([128])\n",
      "torch.Size([128, 18]) torch.Size([128]) torch.Size([128])\n",
      "torch.Size([128, 18]) torch.Size([128]) torch.Size([128])\n",
      "torch.Size([128, 18]) torch.Size([128]) torch.Size([128])\n",
      "torch.Size([128, 18]) torch.Size([128]) torch.Size([128])\n",
      "torch.Size([128, 18]) torch.Size([128]) torch.Size([128])\n",
      "torch.Size([128, 18]) torch.Size([128]) torch.Size([128])\n",
      "torch.Size([128, 18]) torch.Size([128]) torch.Size([128])\n",
      "torch.Size([128, 18]) torch.Size([128]) torch.Size([128])\n",
      "torch.Size([128, 18]) torch.Size([128]) torch.Size([128])\n",
      "torch.Size([128, 18]) torch.Size([128]) torch.Size([128])\n",
      "torch.Size([128, 18]) torch.Size([128]) torch.Size([128])\n",
      "torch.Size([128, 18]) torch.Size([128]) torch.Size([128])\n",
      "torch.Size([128, 18]) torch.Size([128]) torch.Size([128])\n",
      "torch.Size([128, 18]) torch.Size([128]) torch.Size([128])\n",
      "torch.Size([128, 18]) torch.Size([128]) torch.Size([128])\n",
      "torch.Size([128, 18]) torch.Size([128]) torch.Size([128])\n",
      "torch.Size([128, 18]) torch.Size([128]) torch.Size([128])\n",
      "torch.Size([128, 18]) torch.Size([128]) torch.Size([128])\n",
      "torch.Size([128, 18]) torch.Size([128]) torch.Size([128])\n",
      "torch.Size([128, 18]) torch.Size([128]) torch.Size([128])\n",
      "torch.Size([128, 18]) torch.Size([128]) torch.Size([128])\n",
      "torch.Size([128, 18]) torch.Size([128]) torch.Size([128])\n",
      "torch.Size([128, 18]) torch.Size([128]) torch.Size([128])\n",
      "torch.Size([128, 18]) torch.Size([128]) torch.Size([128])\n",
      "torch.Size([128, 18]) torch.Size([128]) torch.Size([128])\n",
      "torch.Size([128, 18]) torch.Size([128]) torch.Size([128])\n",
      "torch.Size([128, 18]) torch.Size([128]) torch.Size([128])\n",
      "torch.Size([110, 18]) torch.Size([110]) torch.Size([110])\n",
      "              precision    recall  f1-score   support\n",
      "\n",
      "     walking       0.90      0.91      0.90      5500\n",
      "     jogging       0.95      0.95      0.95      5337\n",
      "      stairs       0.73      0.76      0.75      4935\n",
      "     sitting       0.87      0.79      0.83      5369\n",
      "    standing       0.76      0.81      0.78      5538\n",
      "      typing       0.82      0.88      0.85      4873\n",
      "       teeth       0.85      0.81      0.83      5533\n",
      "        soup       0.78      0.72      0.75      5458\n",
      "       chips       0.78      0.75      0.77      5158\n",
      "       pasta       0.81      0.75      0.78      4992\n",
      "    drinking       0.72      0.77      0.74      5748\n",
      "    sandwich       0.82      0.76      0.79      5307\n",
      "     kicking       0.53      0.63      0.58      5508\n",
      "       catch       0.55      0.48      0.52      5331\n",
      "   dribbling       0.64      0.65      0.65      5439\n",
      "     writing       0.90      0.86      0.88      5250\n",
      "    clapping       0.79      0.83      0.81      5201\n",
      "     folding       0.58      0.62      0.60      5377\n",
      "\n",
      "    accuracy                           0.76     95854\n",
      "   macro avg       0.77      0.76      0.76     95854\n",
      "weighted avg       0.77      0.76      0.76     95854\n",
      "\n"
     ]
    },
    {
     "data": {
      "image/png": "[encoded data removed]",
      "text/plain": [
       "<Figure size 1000x800 with 2 Axes>"
      ]
     },
     "metadata": {},
     "output_type": "display_data"
    }
   ],
   "source": [
    "# Load the best model state\n",
    "model.load_state_dict(best_model_state)\n",
    "\n",
    "# Evaluate on test set\n",
    "model.eval()\n",
    "all_preds = []\n",
    "all_labels = []\n",
    "with torch.no_grad():\n",
    "    for features, labels in test_dataloader:\n",
    "        features = features.to('cuda')\n",
    "        labels = torch.argmax(labels, dim=1).to('cuda')\n",
    "\n",
    "        outputs = model(features)\n",
    "        predicted = torch.argmax(outputs, dim=1)\n",
    "\n",
    "        print(outputs.shape, predicted.shape, labels.shape)\n",
    "\n",
    "        all_preds.append(predicted.cpu().numpy())\n",
    "        all_labels.append(labels.cpu().numpy())\n",
    "\n",
    "all_labels = np.concat(all_labels, axis=0)\n",
    "all_preds = np.concat(all_preds, axis=0)\n",
    "\n",
    "print(classification_report(all_labels, all_preds, target_names=[ACTIVITY_MAP[key] for key in ACTIVITY_CODE.keys()]))\n",
    "conf_mat = confusion_matrix(all_labels, all_preds)\n",
    "plt.figure(figsize=(10, 8))\n",
    "sns.heatmap(conf_mat, annot=True, fmt='d', xticklabels=[ACTIVITY_MAP[key] for key in ACTIVITY_CODE.keys()], yticklabels=[ACTIVITY_MAP[key] for key in ACTIVITY_CODE.keys()])\n",
    "plt.xlabel('Predicted')\n",
    "plt.ylabel('True')\n",
    "plt.title('Confusion Matrix')\n",
    "plt.show()"
   ]
  }
 ],
 "metadata": {
  "kernelspec": {
   "display_name": "har-iot",
   "language": "python",
   "name": "python3"
  },
  "language_info": {
   "codemirror_mode": {
    "name": "ipython",
    "version": 3
   },
   "file_extension": ".py",
   "mimetype": "text/x-python",
   "name": "python",
   "nbconvert_exporter": "python",
   "pygments_lexer": "ipython3",
   "version": "3.12.3"
  }
 },
 "nbformat": 4,
 "nbformat_minor": 5
}
